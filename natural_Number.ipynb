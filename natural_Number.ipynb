{
  "nbformat": 4,
  "nbformat_minor": 0,
  "metadata": {
    "colab": {
      "name": "Untitled0.ipynb",
      "provenance": []
    },
    "kernelspec": {
      "name": "python3",
      "display_name": "Python 3"
    }
  },
  "cells": [
    {
      "cell_type": "markdown",
      "metadata": {
        "id": "MejX0igOiMUx",
        "colab_type": "text"
      },
      "source": [
        "Write a python program to find the sum of first ‘n’ natural numbers without using any loop. Ask user to input the value of ‘n’."
      ]
    },
    {
      "cell_type": "code",
      "metadata": {
        "id": "HeROfzMAFHk9",
        "colab_type": "code",
        "colab": {
          "base_uri": "https://localhost:8080/",
          "height": 51
        },
        "outputId": "a024d77c-f248-49aa-dd74-36d169d3f649"
      },
      "source": [
        "n=int(input(\"Enter the natural number \"))\n",
        "sum=(n*(n+1)/2)\n",
        "print(sum)"
      ],
      "execution_count": 2,
      "outputs": [
        {
          "output_type": "stream",
          "text": [
            "Enter the natural number 16\n",
            "136.0\n"
          ],
          "name": "stdout"
        }
      ]
    },
    {
      "cell_type": "code",
      "metadata": {
        "id": "nD4rwKOjiZ--",
        "colab_type": "code",
        "colab": {}
      },
      "source": [
        ""
      ],
      "execution_count": null,
      "outputs": []
    }
  ]
}